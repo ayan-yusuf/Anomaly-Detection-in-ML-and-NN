{
 "cells": [
  {
   "cell_type": "code",
   "execution_count": 2,
   "metadata": {
    "scrolled": false
   },
   "outputs": [
    {
     "name": "stdout",
     "output_type": "stream",
     "text": [
      "mission accomplished!\n",
      "Total operation time: =  0.0027828216552734375 seconds\n"
     ]
    }
   ],
   "source": [
    "##  \"attacks\" folder (with attack csv files) is required for the operation of the program.\n",
    "##  \"attacks\" folder must be located in the same directory as the program.\n",
    "\n",
    "\n",
    "##  the purpose of this code is to determine which features to use in the machine learning phase.\n",
    "##  for this purpose, the importance weights of the attacks are calculated.\n",
    "##  this calculation was made using sklearn-RandomForestRegressor.\n",
    "\n",
    "##  the some codes parts used for calculation and graphing are taken from the following site.\n",
    "##  http://scikit-learn.org/stable/auto_examples/ensemble/plot_forest_importances.html\n",
    "\n",
    "import numpy as np\n",
    "import os\n",
    "import pandas as pd\n",
    "import matplotlib.pyplot as plt\n",
    "%matplotlib inline\n",
    "from sklearn.ensemble import ExtraTreesClassifier\n",
    "from sklearn.ensemble import RandomForestRegressor\n",
    "import sklearn as sk\n",
    "import time\n",
    "seconds = time.time()\n",
    "\n",
    "def folder(f_name): #this function creates a folder named \"feaure_pics\" in the program directory.\n",
    "    try:\n",
    "        if not os.path.exists(f_name):\n",
    "            os.makedirs(f_name)\n",
    "    except OSError:\n",
    "        print (\"The folder could not be created!\")\n",
    "        \n",
    "\n",
    "# CSV files names:\n",
    "csv_files=os.listdir(\"attacks\")# It creates a list of file names in the \"attacks\" folder.\n",
    "\n",
    "# Headers of column\n",
    "main_labels=[\"Flow Duration\",\"Total Fwd Packets\",   \"Total Backward Packets\",\"Total Length of Fwd Packets\",\"Total Length of Bwd Packets\",\"Fwd Packet Length Max\",\"Fwd Packet Length Min\",\n",
    "   \"Fwd Packet Length Mean\",\"Fwd Packet Length Std\",\"Bwd Packet Length Max\",\"Bwd Packet Length Min\",\"Bwd Packet Length Mean\",\"Bwd Packet Length Std\",\n",
    "   \"Flow Bytes/s\",\"Flow Packets/s\",\"Flow IAT Mean\",\"Flow IAT Std\",\"Flow IAT Max\",\"Flow IAT Min\",\"Fwd IAT Total\",\"Fwd IAT Mean\",\"Fwd IAT Std\",\"Fwd IAT Max\",\n",
    "   \"Fwd IAT Min\",\"Bwd IAT Total\",\"Bwd IAT Mean\",\"Bwd IAT Std\",\"Bwd IAT Max\",\"Bwd IAT Min\",\"Fwd PSH Flags\",\"Bwd PSH Flags\",\"Fwd URG Flags\",\"Bwd URG Flags\",\n",
    "   \"Fwd Header Length\",\"Bwd Header Length\",\"Fwd Packets/s\",\"Bwd Packets/s\",\"Min Packet Length\",\"Max Packet Length\",\"Packet Length Mean\",\"Packet Length Std\",\n",
    "   \"Packet Length Variance\",\"FIN Flag Count\",\"SYN Flag Count\",\"RST Flag Count\",\"PSH Flag Count\",\"ACK Flag Count\",\"URG Flag Count\",\"CWE Flag Count\",\n",
    "   \"ECE Flag Count\",\"Down/Up Ratio\",\"Average Packet Size\",\"Avg Fwd Segment Size\",\"Avg Bwd Segment Size\",\"Fwd Avg Bytes/Bulk\",\n",
    "   \"Fwd Avg Packets/Bulk\",\"Fwd Avg Bulk Rate\",\"Bwd Avg Bytes/Bulk\",\"Bwd Avg Packets/Bulk\",\"Bwd Avg Bulk Rate\",\"Subflow Fwd Packets\",\"Subflow Fwd Bytes\",\n",
    "   \"Subflow Bwd Packets\",\"Subflow Bwd Bytes\",\"Init_Win_bytes_forward\",\"Init_Win_bytes_backward\",\"act_data_pkt_fwd\",\n",
    "   \"min_seg_size_forward\",\"Active Mean\",\"Active Std\",\"Active Max\",\"Active Min\",\n",
    "    \"Idle Mean\",\"Idle Std\",\"Idle Max\", \"Idle Min\",\"Label\"]\n",
    "\n",
    "ths = open(\"importance_list_for_attack_files.csv\", \"w\")\n",
    "folder(\"./feaure_pics/\")\n",
    "for j in csv_files:\n",
    "    df=pd.read_csv(\".\\\\attacks\\\\\"+j,usecols=main_labels)\n",
    "    df=df.fillna(0)\n",
    "    attack_or_not=[]\n",
    "    for i in df[\"Label\"]:#it changes the normal label to \"1\" and the attack tag to \"0\" for use in the machine learning algorithm\n",
    "        if i ==\"BENIGN\":\n",
    "            attack_or_not.append(1)\n",
    "        else:\n",
    "            attack_or_not.append(0)           \n",
    "    df[\"Label\"]=attack_or_not\n",
    "\n",
    "    y = df[\"Label\"].values\n",
    "    del df[\"Label\"]\n",
    "    X = df.values\n",
    "    \n",
    "    X = np.float32(X)\n",
    "    X[np.isnan(X)] = 0\n",
    "    X[np.isinf(X)] = 0\n",
    "   \n",
    "\n",
    "    #computing the feature importances\n",
    "    forest = sk.ensemble.RandomForestRegressor(n_estimators=250,random_state=0)\n",
    "    forest.fit(X, y)\n",
    "    importances = forest.feature_importances_\n",
    "    std = np.std([tree.feature_importances_ for tree in forest.estimators_],\n",
    "                 axis=0)\n",
    "    indices = np.argsort(importances)[::-1]\n",
    "    refclasscol=list(df.columns.values)\n",
    "    impor_bars = pd.DataFrame({'Features':refclasscol[0:20],'importance':importances[0:20]})\n",
    "    impor_bars = impor_bars.sort_values('importance',ascending=False).set_index('Features')\n",
    "    plt.rcParams['figure.figsize'] = (10, 5)\n",
    "    impor_bars.plot.bar();\n",
    "    #printing the feature importances  \n",
    "    count=0\n",
    "    fea_ture=j[0:-4]+\"=[\"\n",
    "    for i in impor_bars.index:\n",
    "        fea_ture=fea_ture+\"\\\"\"+str(i)+\"\\\",\"\n",
    "        count+=1\n",
    "        if count==5:\n",
    "            fea_ture=fea_ture[0:-1]+\"]\"\n",
    "            break     \n",
    "    print(j[0:-4],\"importance list:\")\n",
    "    print(j[0:-4],\"\\n\",impor_bars.head(20),\"\\n\\n\\n\")\n",
    "    print(fea_ture)\n",
    "    plt.title(j[0:-4]+\" Attack - Feature Importance\")\n",
    "    plt.ylabel('Importance')\n",
    "    plt.savefig(\"./feaure_pics/\"+j[0:-4]+\".pdf\",bbox_inches='tight', papertype = 'a4', orientation = 'portrait', format = 'pdf')\n",
    "    ths.write((  fea_ture ) )\n",
    "    plt.tight_layout()\n",
    "    plt.show()\n",
    "    print(\"-----------------------------------------------------------------------------------------------\\n\\n\\n\\n\")\n",
    "\n",
    "    \n",
    "print(\"mission accomplished!\")\n",
    "print(\"Total operation time: = \",time.time()- seconds ,\"seconds\")\n",
    "ths.close()\n",
    "\n"
   ]
  },
  {
   "cell_type": "code",
   "execution_count": null,
   "metadata": {},
   "outputs": [],
   "source": []
  },
  {
   "cell_type": "code",
   "execution_count": null,
   "metadata": {},
   "outputs": [],
   "source": []
  }
 ],
 "metadata": {
  "kernelspec": {
   "display_name": "Python 3",
   "language": "python",
   "name": "python3"
  },
  "language_info": {
   "codemirror_mode": {
    "name": "ipython",
    "version": 3
   },
   "file_extension": ".py",
   "mimetype": "text/x-python",
   "name": "python",
   "nbconvert_exporter": "python",
   "pygments_lexer": "ipython3",
   "version": "3.11.3 (v3.11.3:f3909b8bc8, Apr  4 2023, 20:12:10) [Clang 13.0.0 (clang-1300.0.29.30)]"
  },
  "vscode": {
   "interpreter": {
    "hash": "aee8b7b246df8f9039afb4144a1f6fd8d2ca17a180786b69acc140d282b71a49"
   }
  }
 },
 "nbformat": 4,
 "nbformat_minor": 2
}
